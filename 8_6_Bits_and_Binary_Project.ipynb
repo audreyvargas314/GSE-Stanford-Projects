{
  "nbformat": 4,
  "nbformat_minor": 0,
  "metadata": {
    "colab": {
      "name": "8/6 Bits and Binary Project.ipynb",
      "provenance": [],
      "collapsed_sections": [],
      "include_colab_link": true
    },
    "kernelspec": {
      "name": "python3",
      "display_name": "Python 3"
    }
  },
  "cells": [
    {
      "cell_type": "markdown",
      "metadata": {
        "id": "view-in-github",
        "colab_type": "text"
      },
      "source": [
        "<a href=\"https://colab.research.google.com/github/audreyvargas314/GSE-Stanford-Projects/blob/main/8_6_Bits_and_Binary_Project.ipynb\" target=\"_parent\"><img src=\"https://colab.research.google.com/assets/colab-badge.svg\" alt=\"Open In Colab\"/></a>"
      ]
    },
    {
      "cell_type": "markdown",
      "metadata": {
        "id": "jFyOCWquYN0t"
      },
      "source": [
        "## **Coding Calculators**"
      ]
    },
    {
      "cell_type": "markdown",
      "metadata": {
        "id": "veq3QxvA13QV"
      },
      "source": [
        "In this project, a binary-to-decimal calculator is programmed. It consists of a function that takes in a binary number in the form of a string and returns the decimal number as an integer."
      ]
    },
    {
      "cell_type": "code",
      "metadata": {
        "id": "hWaacN1CV8LG"
      },
      "source": [
        "#soln 1 - goes through bits from right to left\n",
        "def binary_to_decimal1(binary_string):\n",
        "  result = 0  #variable to store result\n",
        "  place = 0  #variable to store the bit place, starting at 0\n",
        "  for i in range(len(binary_string) - 1, -1, -1):   #iterate through every digit, starting from the right (0th bit place but last string index)\n",
        "    curr_digit = binary_string[i] \n",
        "    if (curr_digit == '1'):  # if the current digit is a '1'\n",
        "      result = result + (2**place)  #add 2 ^ (current place) to the result\n",
        "    place = place + 1 #increment place counter\n",
        "  return result\n"
      ],
      "execution_count": null,
      "outputs": []
    },
    {
      "cell_type": "code",
      "metadata": {
        "id": "-eiEleDt42lL"
      },
      "source": [
        "#soln 2 - goes through bits from left to right\n",
        "def binary_to_decimal2(binary_string):\n",
        "    result = 0\n",
        "    place = len(binary_string) - 1  #variable to store the bit place, starting at the largest place\n",
        "    for i in range(len(binary_string)): #iterate through every digit, starting from the left (largest bit place but 0th string index)\n",
        "        curr_digit = binary_string[i] \n",
        "        if (curr_digit == '1'):\n",
        "            result = result + (2**place)\n",
        "        place = place - 1 #decrement place counter\n",
        "    return result"
      ],
      "execution_count": null,
      "outputs": []
    },
    {
      "cell_type": "code",
      "metadata": {
        "id": "F64A11Xd44AW"
      },
      "source": [
        "#soln 3 - uses int() function to convert character to int\n",
        "def binary_to_decimal3(binary_string):\n",
        "    result = 0\n",
        "    place = len(binary_string) - 1\n",
        "    for i in range(len(binary_string)):\n",
        "        curr_digit = int(binary_string[i])  # convert the string binary_string[i] - '1' or '0', to an integer - 1 or 0\n",
        "        result = result + curr_digit * (2**place) # add to result either 1 * (2**place) or 0 * (2**place)\n",
        "        place = place - 1\n",
        "    return result"
      ],
      "execution_count": null,
      "outputs": []
    },
    {
      "cell_type": "code",
      "metadata": {
        "id": "wB1nOFfDiU5I",
        "outputId": "0b6c5a5c-f97a-4215-a424-b946086ecbff",
        "colab": {
          "base_uri": "https://localhost:8080/"
        }
      },
      "source": [
        "#test out the calculator\n",
        "binary_to_decimal3(\"10101\")"
      ],
      "execution_count": null,
      "outputs": [
        {
          "output_type": "execute_result",
          "data": {
            "text/plain": [
              "21"
            ]
          },
          "metadata": {
            "tags": []
          },
          "execution_count": 4
        }
      ]
    },
    {
      "cell_type": "markdown",
      "metadata": {
        "id": "r_wVCOy312vg"
      },
      "source": [
        "Now, a decimal-to-binary calculator is made. This is made by taking the decimal number and dividing it by 2 to find the integer quotient and the remainder. The remainder will be either 0 or 1 - this is the 1st place bit. Continuously dividng, the next remainder will be the 2nd place bit, then the 3rd place bit, and so on. The dividing will stop once the integer quotient reaches 0, and the remainder at that point is the highest bit.\n",
        "\n",
        "For example, if the decimal number is 52: \n",
        "\n",
        "$\\frac{52}{2} = 26\\;with\\;remainder\\;0.\\;\\;$The 1st place bit is 0. \n",
        "\n",
        "$\\frac{26}{2} = 13\\;with\\;remainder\\;0.\\;\\;$ The 2nd place bit is 0. \n",
        "\n",
        "$\\frac{13}{2} = 6\\;with\\;remainder\\;1.\\;\\;$ The 3rd place bit is 1.\n",
        "\n",
        "$\\frac{6}{2} = 3\\;with\\;remainder\\;0.\\;\\;$ The 4th place bit is 0.\n",
        "\n",
        "$\\frac{3}{2} = 1\\;with\\;remainder\\;1.\\;\\;$ The 5th place bit is 1.\n",
        "\n",
        "$\\frac{1}{2} = 0\\;with\\;remainder\\;1.\\;\\;$ The 6th place bit is 1.\n",
        "\n",
        "So 52 in binary is 110100."
      ]
    },
    {
      "cell_type": "code",
      "metadata": {
        "id": "z-RTvIat1DCO"
      },
      "source": [
        "def decimal_to_binary(decimal_number):\n",
        "  result = \"\"  #initialize empty string to store our result\n",
        "  quotient = decimal_number  #set quotient starting value equal to our decimal number\n",
        "  while (quotient != 0): #while quotient is not equal to 0\n",
        "    remainder = quotient % 2  #divide quotient by 2 and find the remainder\n",
        "    if (remainder == 1): #if the remiander is 1\n",
        "      result = \"1\" + result  #add 1 (as a string) to the LEFT side of the result\n",
        "    else:\n",
        "      result = \"0\" + result #add 0 (as a string) to the LEFT side of the result\n",
        "    quotient = quotient // 2  #divide the quotient by 2 and round down\n",
        "  return result\n"
      ],
      "execution_count": null,
      "outputs": []
    },
    {
      "cell_type": "code",
      "metadata": {
        "id": "1_rqiWzxCRL9",
        "outputId": "26773c43-7321-4576-d89e-c335dc8c9e6e",
        "colab": {
          "base_uri": "https://localhost:8080/",
          "height": 35
        }
      },
      "source": [
        "#test out the calculator\n",
        "decimal_to_binary(15)"
      ],
      "execution_count": null,
      "outputs": [
        {
          "output_type": "execute_result",
          "data": {
            "application/vnd.google.colaboratory.intrinsic+json": {
              "type": "string"
            },
            "text/plain": [
              "'1111'"
            ]
          },
          "metadata": {
            "tags": []
          },
          "execution_count": 6
        }
      ]
    },
    {
      "cell_type": "markdown",
      "metadata": {
        "id": "58sydoqAZd74"
      },
      "source": [
        "## **Bitwise Puzzles**"
      ]
    },
    {
      "cell_type": "markdown",
      "metadata": {
        "id": "w2cjoTy45vEi"
      },
      "source": [
        "Below are some bitwise puzzles. How it works: There is a start number and an end number (both in decimal). The start number has to be changed into the end number by using only the bitwise operations AND (&), OR (|), and XOR (^). "
      ]
    },
    {
      "cell_type": "markdown",
      "metadata": {
        "id": "nIWcMjS5d2lu"
      },
      "source": [
        "**Puzzle 1**\n",
        "\n",
        "Start number: 15\n",
        "\n",
        "End number: 8 "
      ]
    },
    {
      "cell_type": "code",
      "metadata": {
        "id": "eOxmbZG1bi3B",
        "outputId": "3659cf9c-2314-412e-e669-bf4ff7967f59",
        "colab": {
          "base_uri": "https://localhost:8080/"
        }
      },
      "source": [
        "#soln\n",
        "15 & 8"
      ],
      "execution_count": null,
      "outputs": [
        {
          "output_type": "execute_result",
          "data": {
            "text/plain": [
              "8"
            ]
          },
          "metadata": {
            "tags": []
          },
          "execution_count": 7
        }
      ]
    },
    {
      "cell_type": "markdown",
      "metadata": {
        "id": "3t7mVmRCnGU8"
      },
      "source": [
        "**Puzzle 2**\n",
        "\n",
        "Start number: 7\n",
        "\n",
        "End number: 10 "
      ]
    },
    {
      "cell_type": "code",
      "metadata": {
        "id": "5MksG8gHnGtm",
        "outputId": "795ae28c-32bf-44c7-f8ba-7053d79a3e41",
        "colab": {
          "base_uri": "https://localhost:8080/"
        }
      },
      "source": [
        "#soln\n",
        "7 ^ 13"
      ],
      "execution_count": null,
      "outputs": [
        {
          "output_type": "execute_result",
          "data": {
            "text/plain": [
              "10"
            ]
          },
          "metadata": {
            "tags": []
          },
          "execution_count": 8
        }
      ]
    },
    {
      "cell_type": "markdown",
      "metadata": {
        "id": "LrNra3Pig4py"
      },
      "source": [
        "**Puzzle 3**\n",
        "\n",
        "Start number: 42\n",
        "\n",
        "End number: 53"
      ]
    },
    {
      "cell_type": "code",
      "metadata": {
        "id": "YUYgHykdhJZc",
        "outputId": "8cc3d742-565e-46b9-f22d-130c8a021c04",
        "colab": {
          "base_uri": "https://localhost:8080/"
        }
      },
      "source": [
        "#soln\n",
        "(42 ^ 63) ^ 32"
      ],
      "execution_count": null,
      "outputs": [
        {
          "output_type": "execute_result",
          "data": {
            "text/plain": [
              "53"
            ]
          },
          "metadata": {
            "tags": []
          },
          "execution_count": 10
        }
      ]
    },
    {
      "cell_type": "markdown",
      "metadata": {
        "id": "LunBta15kFCm"
      },
      "source": [
        "**Puzzle 4**\n",
        "\n",
        "Start number: 56\n",
        "\n",
        "End number: 4"
      ]
    },
    {
      "cell_type": "code",
      "metadata": {
        "id": "sjzR37E2l4ei",
        "outputId": "1412e705-080b-4f34-bfab-e728a2778f9f",
        "colab": {
          "base_uri": "https://localhost:8080/"
        }
      },
      "source": [
        "#soln\n",
        "(56 ^ 4) & 7"
      ],
      "execution_count": null,
      "outputs": [
        {
          "output_type": "execute_result",
          "data": {
            "text/plain": [
              "4"
            ]
          },
          "metadata": {
            "tags": []
          },
          "execution_count": 11
        }
      ]
    }
  ]
}