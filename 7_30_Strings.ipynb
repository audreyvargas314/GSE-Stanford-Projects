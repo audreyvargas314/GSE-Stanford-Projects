{
  "nbformat": 4,
  "nbformat_minor": 0,
  "metadata": {
    "colab": {
      "name": "7/30 Strings.ipynb",
      "provenance": [],
      "collapsed_sections": [],
      "include_colab_link": true
    },
    "kernelspec": {
      "name": "python3",
      "display_name": "Python 3"
    }
  },
  "cells": [
    {
      "cell_type": "markdown",
      "metadata": {
        "id": "view-in-github",
        "colab_type": "text"
      },
      "source": [
        "<a href=\"https://colab.research.google.com/github/audreyvargas314/GSE-Stanford-Projects/blob/main/7_30_Strings.ipynb\" target=\"_parent\"><img src=\"https://colab.research.google.com/assets/colab-badge.svg\" alt=\"Open In Colab\"/></a>"
      ]
    },
    {
      "cell_type": "markdown",
      "metadata": {
        "id": "CWAEJ4he2swH"
      },
      "source": [
        "**Removing Vowels from a String**\n",
        "\n",
        "The following code takes in any string (it can be capitalized in any way), and returns the string without any vowels in it.\n",
        "<br>\n",
        "<br> Examples:\n",
        "<br> \"Amber\" would turn into \"mbr\"\n",
        "<br> \"a\" would turn into \"\""
      ]
    },
    {
      "cell_type": "code",
      "metadata": {
        "id": "3yZ_chEL2tC6"
      },
      "source": [
        "def anti_vowel1(myString):\n",
        "    newString = myString #make a copy of myString and store it in a variable called newString\n",
        "    vowels = \"aeiouAEIOU\" #define our vowels string\n",
        "    for i in range(len(myString)): #iterate through every character in myString\n",
        "        ourChar = myString[i] #store the individual character in a variable called ourChar\n",
        "        if (ourChar in vowels): #check if ourChar is a vowel, if so, do the code block below\n",
        "            newString = newString.replace(ourChar, '') # go into newString, replace ourChar with an empty string (effectively deleting it) \n",
        "                                                      # and overwrite the old version of newString with our new, modified version\n",
        "    return newString  #return our final result"
      ],
      "execution_count": null,
      "outputs": []
    },
    {
      "cell_type": "code",
      "metadata": {
        "id": "Bwllfxl12wiz",
        "outputId": "ef865f75-99b9-4192-9118-b3a082e33b02",
        "colab": {
          "base_uri": "https://localhost:8080/",
          "height": 35
        }
      },
      "source": [
        "# Let's test our function!\n",
        "anti_vowel1(\"HappIEAOy\")"
      ],
      "execution_count": null,
      "outputs": [
        {
          "output_type": "execute_result",
          "data": {
            "application/vnd.google.colaboratory.intrinsic+json": {
              "type": "string"
            },
            "text/plain": [
              "'Hppy'"
            ]
          },
          "metadata": {
            "tags": []
          },
          "execution_count": 3
        }
      ]
    },
    {
      "cell_type": "code",
      "metadata": {
        "id": "WyxxV34Q2xPq",
        "outputId": "013d3c76-fcf3-4e85-cbad-9b13759d584a",
        "colab": {
          "base_uri": "https://localhost:8080/",
          "height": 35
        }
      },
      "source": [
        "anti_vowel1(\"Amber\")\n"
      ],
      "execution_count": null,
      "outputs": [
        {
          "output_type": "execute_result",
          "data": {
            "application/vnd.google.colaboratory.intrinsic+json": {
              "type": "string"
            },
            "text/plain": [
              "'mbr'"
            ]
          },
          "metadata": {
            "tags": []
          },
          "execution_count": 4
        }
      ]
    },
    {
      "cell_type": "markdown",
      "metadata": {
        "id": "M90T-haW3Aqz"
      },
      "source": [
        "**Hidden Message**\n",
        "\n",
        "Below is a function that takes in a string and returns a string with only the alphabetic letters present:"
      ]
    },
    {
      "cell_type": "code",
      "metadata": {
        "id": "gpbtIIqm3Bn6"
      },
      "source": [
        "jumble = '135!%!2351!%1@#5151@@!#%125I!`@4%$&368&9*&0857&(5*6&%@!$112`12!`#s!`@4$&368&9*&0857&(5*6&%@!$112`12!`#1#24@#%346*&9&08(*(0&*9^&8^%7c!%!2351!%1@#5151@@!#%125!34r@2!`@4%$&368&9*&0857&(5*6&%@!$112`12!`#1#24@#%346*&9&08(*(0&*9^&8^%7e135!%!2351!%1@#a135!%!2351!%1@#5151@@!#%125!343@35%$75679789*)(=5763@2!`@4%$&368&9*&m)(=5763@2!`@4%$&368&9*&0857&(5*6&%@!$112`12!`#1#24@#%346*&9&08((0&*9^&f5763@2!`@4%$&368&9*&0857&(5*6&%@!$112`12!`#1#24@#%346*&9&08(*(0&o!%!2351!%1@#5151@@!#%125r135!%!2351!%1@#5151@@!#%125!343@35%$75679789*)(=5763@2!`@4%$&368&9*&0857&(5*6&%@!$112`12!`#1#24@#%346*&9&08(*(0&*i&(5*6&%@!$112`12!`#1#24@#%346*&9&08c!%2351!%1@#5151@@!#%125!343@35%$75679789*)(=5763@2!`@4%$&368&9*&0857&(5*6&%@!$112`12!`#1#24@#%346*&9&08(*(0&*9^&e135!%!2351!%1@#5151c5763@2!`@4%$&368&9*&0857&(5*6&%@!$112`r135!%!2351!%1@#51e(*(0&*9^&8^%7a135!%!2351!%1@#5151@@!#%125!343@35%$75679789*)(=5763@2!`@m5763@2!`@4%$&368&9*&0857&(5*6&%@!$112`12!`#1#24@#%346*&9&08(-*(0&*9^&8^%'"
      ],
      "execution_count": null,
      "outputs": []
    },
    {
      "cell_type": "code",
      "metadata": {
        "id": "W2ZD7ykR3Iqj",
        "outputId": "715df027-e64d-46f5-b232-3ecbd075e457",
        "colab": {
          "base_uri": "https://localhost:8080/",
          "height": 34
        }
      },
      "source": [
        "#find the hidden message\n",
        "string = \"\"\n",
        "for i in jumble:\n",
        "  if i.isalpha():\n",
        "    string += i\n",
        "print(string)\n",
        "\n",
        "\n"
      ],
      "execution_count": null,
      "outputs": [
        {
          "output_type": "stream",
          "text": [
            "Iscreamforicecream\n"
          ],
          "name": "stdout"
        }
      ]
    },
    {
      "cell_type": "markdown",
      "metadata": {
        "id": "JrfoOAgK2zDh"
      },
      "source": [
        "**Encoding: Pig Latin**\n",
        "<br> The following function takes in a word as a string and returns that word in pig latin. \n",
        "\n",
        "The following are the rules of pig latin:\n",
        "\n",
        "(1) For words that begin with consonant sounds, all letters before the initial vowel are placed at the end of the word sequence. Then, \"ay\" is added. Ex: pig = igpay\n",
        "\n",
        "(2) When words begin with consonant clusters (multiple consonants that form one sound), the whole sound is added to the end. Ex: Truck = ucktray\n",
        "\n",
        "(3) For words that begin with vowel sounds, the vowel is left alone, and 'ay' is added to the end. Ex: apple = appleay"
      ]
    },
    {
      "cell_type": "code",
      "metadata": {
        "id": "XYRnmtiw205y"
      },
      "source": [
        "def pig_latin(word):\n",
        "    if (word[0] in \"aeiouAEIOU\"): #if the first letter of word is a vowel\n",
        "        result = word #set to result equal to a copy of the word\n",
        "    else: #if the first letter is NOT a vowel (its a consonant)\n",
        "        i = 1  #create a counter variable starting at 1\n",
        "        while (not (word[i] in \"aeiouAEIOU\")):  #while the character in word at index i is not a vowel (is a consonant)\n",
        "           i += 1 #increment i\n",
        "        #(after exiting while loop, i will be at the index of the first vowel)\n",
        "        result  = word[i:] + word[:i] #add all the characters from i onward (from the first vowel to the end of the word) then after this add all the\n",
        "                                      #characters from the beginning of the letter up to but not including i (the consonant cluster)\n",
        "    result += \"ay\"  #add \"ay\" to the end of our result (no matter if we did the if code block or the else code block)\n",
        "    print(result)"
      ],
      "execution_count": null,
      "outputs": []
    },
    {
      "cell_type": "code",
      "metadata": {
        "id": "kYReZDB01tMY",
        "outputId": "721fd019-c190-47c5-b7d1-81aab9b9f841",
        "colab": {
          "base_uri": "https://localhost:8080/"
        }
      },
      "source": [
        "# test it out\n",
        "pig_latin('apple')\n",
        "\n"
      ],
      "execution_count": null,
      "outputs": [
        {
          "output_type": "stream",
          "text": [
            "appleay\n"
          ],
          "name": "stdout"
        }
      ]
    }
  ]
}