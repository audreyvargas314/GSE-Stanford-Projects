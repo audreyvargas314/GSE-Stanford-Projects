{
  "nbformat": 4,
  "nbformat_minor": 0,
  "metadata": {
    "colab": {
      "name": "7/29 Loops and Boolean Logic Worksheet.ipynb",
      "provenance": [],
      "collapsed_sections": [],
      "include_colab_link": true
    },
    "kernelspec": {
      "name": "python3",
      "display_name": "Python 3"
    }
  },
  "cells": [
    {
      "cell_type": "markdown",
      "metadata": {
        "id": "view-in-github",
        "colab_type": "text"
      },
      "source": [
        "<a href=\"https://colab.research.google.com/github/audreyvargas314/GSE-Stanford-Projects/blob/main/7_29_Loops_and_Boolean_Logic_Worksheet.ipynb\" target=\"_parent\"><img src=\"https://colab.research.google.com/assets/colab-badge.svg\" alt=\"Open In Colab\"/></a>"
      ]
    },
    {
      "cell_type": "markdown",
      "metadata": {
        "id": "EcMgMqZYqZP6"
      },
      "source": [
        "**Factorials**\n",
        "\n",
        "A factorial is a shorthand notation used to multiply all whole numbers from a chosen number down to 1. \n",
        "<br> 5! = 5 * 4 * 3 * 2 * 1\n",
        "<br> 3! = 3 * 2 * 1\n",
        "<br> 1! = 1\n",
        "<br> 0! = 1 (we defined this)\n",
        "<br>\n",
        "<br> The following function takes in any positive integer n and returns the factorial of that number."
      ]
    },
    {
      "cell_type": "code",
      "metadata": {
        "id": "N1SLz9Toqgc9"
      },
      "source": [
        "def factorial(n):\n",
        "  result = 1 \n",
        "  for i in range(n, 1, -1):\n",
        "    result *= n\n",
        "    n -= 1\n",
        "  return result"
      ],
      "execution_count": null,
      "outputs": []
    },
    {
      "cell_type": "code",
      "metadata": {
        "id": "g0Svmey1v_ka",
        "outputId": "392bae6f-7745-46e1-e51d-d98e4c80f34e",
        "colab": {
          "base_uri": "https://localhost:8080/"
        }
      },
      "source": [
        "# Let's test our function!\n",
        "factorial(5)\n"
      ],
      "execution_count": null,
      "outputs": [
        {
          "output_type": "execute_result",
          "data": {
            "text/plain": [
              "120"
            ]
          },
          "metadata": {
            "tags": []
          },
          "execution_count": 2
        }
      ]
    },
    {
      "cell_type": "markdown",
      "metadata": {
        "id": "7m28IDVjeUqL"
      },
      "source": [
        "The function below does the same thing using a while loop:"
      ]
    },
    {
      "cell_type": "code",
      "metadata": {
        "id": "kXmmj6OfeU-C"
      },
      "source": [
        "def factorial_2(n):\n",
        "  result = 1\n",
        "  while(n >= 1):\n",
        "    result *= n\n",
        "    n -= 1\n",
        "  return result\n",
        "  "
      ],
      "execution_count": null,
      "outputs": []
    },
    {
      "cell_type": "code",
      "metadata": {
        "id": "lJYfv6bkezVJ",
        "outputId": "f1362d2e-7c0e-473e-a015-edf46df82857",
        "colab": {
          "base_uri": "https://localhost:8080/"
        }
      },
      "source": [
        "factorial_2(5)"
      ],
      "execution_count": null,
      "outputs": [
        {
          "output_type": "execute_result",
          "data": {
            "text/plain": [
              "120"
            ]
          },
          "metadata": {
            "tags": []
          },
          "execution_count": 4
        }
      ]
    },
    {
      "cell_type": "markdown",
      "metadata": {
        "id": "mRyRCBp2wHBP"
      },
      "source": [
        "**Perfect Numbers**\n",
        "<br> A perfect number is an integer that is equal to the sum of its proper divisors. A number's proper divisors are all positive numbers that evenly divide it, excluding itself. Eg. the divisors of 20 are 5, 4, 10, 2, and 1. The only divisor of 5 is 1.\n",
        "<br> \n",
        "<br> The first perfect number is 6 because its proper divisors are 1, 2, and 3, and 1 + 2 + 3 = 6.\n",
        "<br> The next perfect number is 28, which equals the sum of its proper divisors: 1 + 2 + 4 + 7 + 14 = 28.\n",
        "\n",
        "\n"
      ]
    },
    {
      "cell_type": "markdown",
      "metadata": {
        "id": "Os6hxjZvwJD_"
      },
      "source": [
        "The following series of functions take in an integer and return True or False if the numbers following up to it are divisible by it (a guideline of determining whether the number inputted is a perfect number):"
      ]
    },
    {
      "cell_type": "code",
      "metadata": {
        "id": "aWI2FK1ywDI-"
      },
      "source": [
        "def divisor_sum(n):\n",
        "  total = 0\n",
        "  for divisor in range(1, n): # The body of the for loop will be executed for divisor = 1, 2, 3, ... n\n",
        "      if n % divisor == 0: # Check if n is a multiple of divisor \n",
        "          total += divisor # Only execute this line if n is a multiple of divisor\n",
        "  return total # Outside the for loop, inside the divisor_sum function"
      ],
      "execution_count": null,
      "outputs": []
    },
    {
      "cell_type": "code",
      "metadata": {
        "id": "cqK7xUbbjs_9",
        "outputId": "c10b9a16-b798-4dae-fa66-58adf9a13d9d",
        "colab": {
          "base_uri": "https://localhost:8080/"
        }
      },
      "source": [
        "# test it out\n",
        "divisor_sum(6)"
      ],
      "execution_count": null,
      "outputs": [
        {
          "output_type": "execute_result",
          "data": {
            "text/plain": [
              "6"
            ]
          },
          "metadata": {
            "tags": []
          },
          "execution_count": 6
        }
      ]
    },
    {
      "cell_type": "code",
      "metadata": {
        "id": "U8klPkOpjW8U"
      },
      "source": [
        "def is_perfect(n):\n",
        "  print(divisor_sum(n) == n)\n",
        "  "
      ],
      "execution_count": null,
      "outputs": []
    },
    {
      "cell_type": "code",
      "metadata": {
        "id": "0TqYmom9juFE",
        "outputId": "6cbac8d1-da9d-419f-e3f5-b7a71bef2014",
        "colab": {
          "base_uri": "https://localhost:8080/"
        }
      },
      "source": [
        "# test it out\n",
        "is_perfect(27)"
      ],
      "execution_count": null,
      "outputs": [
        {
          "output_type": "stream",
          "text": [
            "False\n"
          ],
          "name": "stdout"
        }
      ]
    },
    {
      "cell_type": "code",
      "metadata": {
        "id": "R12Zao_cjWmm"
      },
      "source": [
        "def find_perfects(stop):\n",
        "    for num in range(1, stop): # The body of the for loop will be executed for num = 1, 2, 3, ..., stop\n",
        "        if is_perfect(num): # call the is_perfect function, for parameter n = num. Exectue the body only if is_perfect(n) returns true. \n",
        "            print(\"Found perfect number: \", num)  # only execute this line if is_perfect(n) returns true. \n",
        "        if num % 10000 == 0: # check if num is a multiple of 10000\n",
        "            print('.', end='',flush=True) # progress bar\n",
        "    print(\"Done searching up to \", stop) # Outside the for loop but inside the find_perfects function"
      ],
      "execution_count": null,
      "outputs": []
    },
    {
      "cell_type": "code",
      "metadata": {
        "id": "TkgVjyjmwSOy",
        "outputId": "bf344d2c-cf87-4494-c778-9c99462db9e2",
        "colab": {
          "base_uri": "https://localhost:8080/"
        }
      },
      "source": [
        "find_perfects(28)"
      ],
      "execution_count": null,
      "outputs": [
        {
          "output_type": "stream",
          "text": [
            "False\n",
            "False\n",
            "False\n",
            "False\n",
            "False\n",
            "True\n",
            "False\n",
            "False\n",
            "False\n",
            "False\n",
            "False\n",
            "False\n",
            "False\n",
            "False\n",
            "False\n",
            "False\n",
            "False\n",
            "False\n",
            "False\n",
            "False\n",
            "False\n",
            "False\n",
            "False\n",
            "False\n",
            "False\n",
            "False\n",
            "False\n",
            "Done searching up to  28\n"
          ],
          "name": "stdout"
        }
      ]
    }
  ]
}
