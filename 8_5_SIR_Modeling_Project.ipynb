{
  "nbformat": 4,
  "nbformat_minor": 0,
  "metadata": {
    "colab": {
      "name": "8/5 SIR Modeling Project.ipynb",
      "provenance": [],
      "collapsed_sections": [],
      "include_colab_link": true
    },
    "kernelspec": {
      "name": "python3",
      "display_name": "Python 3"
    }
  },
  "cells": [
    {
      "cell_type": "markdown",
      "metadata": {
        "id": "view-in-github",
        "colab_type": "text"
      },
      "source": [
        "<a href=\"https://colab.research.google.com/github/audreyvargas314/GSE-Stanford-Projects/blob/main/8_5_SIR_Modeling_Project.ipynb\" target=\"_parent\"><img src=\"https://colab.research.google.com/assets/colab-badge.svg\" alt=\"Open In Colab\"/></a>"
      ]
    },
    {
      "cell_type": "markdown",
      "metadata": {
        "id": "GdWBLH3fk_OE"
      },
      "source": [
        "This project is similar to a recent study, [A SIR model assumption for the spread of COVID-19 in different communities](https://www.ncbi.nlm.nih.gov/pmc/articles/PMC7321055/)\n",
        "\n",
        "Solving the system of differential equations: \n",
        "\n",
        "$\\frac{dR(t)}{dt} = \\gamma I(t)$ \n",
        "\n",
        "$\\frac{dS(t)}{dt} = \\frac{-\\beta I(t)S(t)}{N}$\n",
        "\n",
        "$\\frac{dI(t)}{dt} = \\frac{\\beta I(t)S(t)}{N} - \\gamma I(t)$\n",
        "\n",
        "$\\beta$ is the number of people an infected person infects per day\n",
        "\n",
        "$D$ is the number of days an infected person can spread the disease\n",
        "\n",
        "$R_o = \\beta * D$  is the total number of people an infected person infects \n",
        "\n",
        "$\\gamma = \\frac{1}{D}$ is the percentage of infected people that recover per day\n",
        "\n",
        "\n",
        "A Python library called SciPy has a function called [odeint](https://docs.scipy.org/doc/scipy/reference/generated/scipy.integrate.odeint.html) which can be used to solve the system of differential equations for $S(t)$, $I(t)$, and $R(t)$.\n",
        "\n",
        "\n",
        "First, the constraints must be defined - $N$, $\\beta$, and $D$. This project uses hypothetical values; the population size is 1000, an infected person infects an average of 0.5 people a day, and the infectious period lasts one week. Then, $R_o$ and $\\gamma$ are defined."
      ]
    },
    {
      "cell_type": "code",
      "metadata": {
        "id": "P2qo_jc-QfNu"
      },
      "source": [
        "# define constants\n",
        "N = 1000\n",
        "beta = 0.5\n",
        "D = 7\n",
        "gamma = 1 / D\n",
        "Ro = beta * D\n"
      ],
      "execution_count": null,
      "outputs": []
    },
    {
      "cell_type": "markdown",
      "metadata": {
        "id": "MBKNGEGHgwz5"
      },
      "source": [
        "At this point, the time range over which we want to calculate our $S$, $I$, and $R$ populations must be defined. Using a hypothetical time frame that lasts 100 days, a list called $t$ that contains every integer from 0 to 100 is created. When the system is solved, the $S$, $I$, and $R$ values will be calculated for days 0 - 100."
      ]
    },
    {
      "cell_type": "code",
      "metadata": {
        "id": "_VfFT_JlaEnj",
        "outputId": "35721599-6334-4d12-813c-b529d516e265",
        "colab": {
          "base_uri": "https://localhost:8080/"
        }
      },
      "source": [
        "# time range in days\n",
        "t = []\n",
        "for i in range(101):\n",
        "    t.append(i)\n",
        "print(t)\n",
        "\n",
        "\n",
        "\n"
      ],
      "execution_count": null,
      "outputs": [
        {
          "output_type": "stream",
          "text": [
            "[0, 1, 2, 3, 4, 5, 6, 7, 8, 9, 10, 11, 12, 13, 14, 15, 16, 17, 18, 19, 20, 21, 22, 23, 24, 25, 26, 27, 28, 29, 30, 31, 32, 33, 34, 35, 36, 37, 38, 39, 40, 41, 42, 43, 44, 45, 46, 47, 48, 49, 50, 51, 52, 53, 54, 55, 56, 57, 58, 59, 60, 61, 62, 63, 64, 65, 66, 67, 68, 69, 70, 71, 72, 73, 74, 75, 76, 77, 78, 79, 80, 81, 82, 83, 84, 85, 86, 87, 88, 89, 90, 91, 92, 93, 94, 95, 96, 97, 98, 99, 100]\n"
          ],
          "name": "stdout"
        }
      ]
    },
    {
      "cell_type": "markdown",
      "metadata": {
        "id": "T_HmiDfvh-NW"
      },
      "source": [
        "The 'inital conditions' must be defined. These are the starting values for $S$, $I$, and $R$, or the number of 'Susceptible', 'Infectious', and 'Removed' people at day 0. A list with three items is made - the first being the starting value for $S$, the next item being the starting value for $I$, and the last item being the starting value for $R$. All of the values have to add up to N, since there is a total of N people in the population."
      ]
    },
    {
      "cell_type": "code",
      "metadata": {
        "id": "fW0ssMWOh-iJ"
      },
      "source": [
        "# initial conditions\n",
        "init_conditions = [N-1, 1, 0]\n"
      ],
      "execution_count": null,
      "outputs": []
    },
    {
      "cell_type": "markdown",
      "metadata": {
        "id": "F158uwEqQehH"
      },
      "source": [
        "The next code cells writes a function that defines the system of equations, and then calls odeint to solve the system of equations - producing the values for $S$, $I$ and $R$ over the time period $t$ defined earlier, based off the initial conditions and constants also defined earlier. "
      ]
    },
    {
      "cell_type": "code",
      "metadata": {
        "id": "Brj4onhN9z1o"
      },
      "source": [
        "#run me\n",
        "#define system of equations\n",
        "def SIR_eqns(f, t, N, beta, D, gamma, Ro):\n",
        "    S, I, R = f\n",
        "    #system of equations\n",
        "    dSdt = (-beta * I * S) / N\n",
        "    dIdt = (beta * I * S / N) - (gamma * I)\n",
        "    dRdt = gamma * I\n",
        "    equations = [dSdt, dIdt, dRdt]\n",
        "    return equations\n",
        "\n",
        "\n",
        "from scipy.integrate import odeint\n",
        "#solve system of equations for S, I, and R over time period t\n",
        "sol = odeint(SIR_eqns, init_conditions, t, args = (N, beta, D, gamma, Ro))\n",
        "S = sol[:, 0]\n",
        "I = sol[:, 1]\n",
        "R = sol[:, 2]"
      ],
      "execution_count": null,
      "outputs": []
    },
    {
      "cell_type": "markdown",
      "metadata": {
        "id": "YJWC3mv-nSsx"
      },
      "source": [
        "$S$, $I$, and $R$ are all lists with the same length as $t$. \n",
        "\n",
        "The first value in $S$ is the size of the 'Susceptible' population at day 0 (the first value in $t$). The second value in $S$ is the size of the 'Susceptible' population at day 1 (the second value in $t$), and the 100th value in $S$ is the size of the 'Susceptible' population at day 99 (the 100th value in $t$). The same applies to $I$ and $R$."
      ]
    },
    {
      "cell_type": "code",
      "metadata": {
        "id": "MYJ--_e7oed3",
        "outputId": "e2d08149-f873-436f-9678-2c0a49f58aa0",
        "colab": {
          "base_uri": "https://localhost:8080/"
        }
      },
      "source": [
        "print(t)"
      ],
      "execution_count": null,
      "outputs": [
        {
          "output_type": "stream",
          "text": [
            "[0, 1, 2, 3, 4, 5, 6, 7, 8, 9, 10, 11, 12, 13, 14, 15, 16, 17, 18, 19, 20, 21, 22, 23, 24, 25, 26, 27, 28, 29, 30, 31, 32, 33, 34, 35, 36, 37, 38, 39, 40, 41, 42, 43, 44, 45, 46, 47, 48, 49, 50, 51, 52, 53, 54, 55, 56, 57, 58, 59, 60, 61, 62, 63, 64, 65, 66, 67, 68, 69, 70, 71, 72, 73, 74, 75, 76, 77, 78, 79, 80, 81, 82, 83, 84, 85, 86, 87, 88, 89, 90, 91, 92, 93, 94, 95, 96, 97, 98, 99, 100]\n"
          ],
          "name": "stdout"
        }
      ]
    },
    {
      "cell_type": "code",
      "metadata": {
        "id": "DrtwuI5QLb92",
        "outputId": "bd6629be-1575-429a-8949-6b914fd44e7a",
        "colab": {
          "base_uri": "https://localhost:8080/"
        }
      },
      "source": [
        "print(S)"
      ],
      "execution_count": null,
      "outputs": [
        {
          "output_type": "stream",
          "text": [
            "[999.         998.40003398 997.54386708 996.32300981 994.58397744\n",
            " 992.11060097 988.60038005 983.63390438 976.63737783 966.84081256\n",
            " 953.23968761 934.57710121 909.37700388 876.07328868 833.28178337\n",
            " 780.22865237 717.25701197 646.20332996 570.36928365 493.9475\n",
            " 421.07769048 354.96313423 297.42004859 248.93052247 209.00899142\n",
            " 176.63671698 150.60983818 129.75663506 113.04391776  99.61103533\n",
            "  88.76496518  79.95862098  72.76473996  66.85118558  61.95991639\n",
            "  57.8900129   54.48439439  51.61960248  49.19801416  47.14193233\n",
            "  45.38910292  43.88930786  42.60176767  41.49315246  40.53605074\n",
            "  39.70778424  38.98948479  38.36537113  37.82217858  37.34870647\n",
            "  36.9354569   36.57434434  36.25846102  35.98188609  35.73952954\n",
            "  35.52700374  35.34051742  35.17678732  35.03296456  34.90657276\n",
            "  34.79545587  34.69773415  34.61176662  34.5361191   34.46953689\n",
            "  34.41092134  34.35930969  34.31385764  34.2738243   34.23855917\n",
            "  34.20749086  34.1801172   34.15599672  34.13474118  34.116009\n",
            "  34.09949964  34.08494857  34.0721229   34.06081758  34.05085202\n",
            "  34.04206718  34.03432294  34.02749588  34.02147723  34.01617116\n",
            "  34.01149324  34.00736903  34.00373295  34.00052719  33.99770079\n",
            "  33.99520883  33.99301173  33.99107458  33.98936661  33.9878607\n",
            "  33.98653295  33.98536227  33.98433007  33.98341997  33.98261753\n",
            "  33.98191   ]\n"
          ],
          "name": "stdout"
        }
      ]
    },
    {
      "cell_type": "markdown",
      "metadata": {
        "id": "uTu9Gq43ojNj"
      },
      "source": [
        "Now, the data will be plotted. A sub-library called  [pyplot](https://matplotlib.org/tutorials/introductory/pyplot.html) that belongs to a library called [matplotlib](https://matplotlib.org/index.html) will be used.\n",
        "The first line below imports this library and abreviates its name to \"plt\". To call a function from this library, the syntax *plt.functionName(arguments)* is used.\n",
        "The *plot* function is what actually plots the data. The first argument should be a list that holds all of the x-values, and the second should be a list that holds all of the y-values. The first value in list 1 will correspond to the first value in list 2, and so on. The two lists need to be the same size, so there is a y-value for every x-value. Below, the 'Susceptible' values over time are plotted, and then plt.show is written to display the plot.\n",
        "\n"
      ]
    },
    {
      "cell_type": "code",
      "metadata": {
        "id": "vbJ8_VrTe7eL",
        "outputId": "8296d770-e4d4-4a87-9e76-4b6f4530fae6",
        "colab": {
          "base_uri": "https://localhost:8080/",
          "height": 312
        }
      },
      "source": [
        "#run me\n",
        "import matplotlib.pyplot as plt\n",
        "plt.plot(t, S)\n",
        "plt.show\n",
        "plt.plot(t, I)\n",
        "plt.plot(t, R)\n",
        "plt.xlabel('Time (days)')\n",
        "plt.ylabel('Number of people')\n",
        "plt.title('SIR Model')\n",
        "plt.legend(['Susceptible', 'Infected', 'Recovered'])"
      ],
      "execution_count": null,
      "outputs": [
        {
          "output_type": "execute_result",
          "data": {
            "text/plain": [
              "<matplotlib.legend.Legend at 0x7f8d59344f60>"
            ]
          },
          "metadata": {
            "tags": []
          },
          "execution_count": 18
        },
        {
          "output_type": "display_data",
          "data": {
            "image/png": "[encoded data removed]",
            "text/plain": [
              "<Figure size 432x288 with 1 Axes>"
            ]
          },
          "metadata": {
            "tags": [],
            "needs_background": "light"
          }
        }
      ]
    },
    {
      "cell_type": "markdown",
      "metadata": {
        "id": "rgRK60XifDAT"
      },
      "source": [
        "Below, the 'Infected' and 'Removed' values are plotted. The graphs can be combined, as shown in the top, and can contain a legend to distinguish the respective graphs."
      ]
    },
    {
      "cell_type": "code",
      "metadata": {
        "id": "pRlmXc6YkT4t",
        "outputId": "0d5516c9-5038-4f6a-8582-565e0df6fd34",
        "colab": {
          "base_uri": "https://localhost:8080/",
          "height": 312
        }
      },
      "source": [
        "plt.plot(t, I)\n",
        "plt.ylabel('Number of people')\n",
        "plt.title('SIR Model: Infected People')\n",
        "plt.xlabel('Time (days)')\n",
        "plt.show"
      ],
      "execution_count": null,
      "outputs": [
        {
          "output_type": "execute_result",
          "data": {
            "text/plain": [
              "<function matplotlib.pyplot.show>"
            ]
          },
          "metadata": {
            "tags": []
          },
          "execution_count": 20
        },
        {
          "output_type": "display_data",
          "data": {
            "image/png": "[encoded data removed]",
            "text/plain": [
              "<Figure size 432x288 with 1 Axes>"
            ]
          },
          "metadata": {
            "tags": [],
            "needs_background": "light"
          }
        }
      ]
    },
    {
      "cell_type": "code",
      "metadata": {
        "id": "zOart5k3BxFp",
        "outputId": "0dcde18c-eae6-4ecc-a19f-3ab78ec43164",
        "colab": {
          "base_uri": "https://localhost:8080/",
          "height": 312
        }
      },
      "source": [
        "plt.plot(t, R)\n",
        "plt.ylabel('Number of people')\n",
        "plt.title('SIR Model: Recovered People')\n",
        "plt.xlabel('Time (days)')\n",
        "plt.show"
      ],
      "execution_count": null,
      "outputs": [
        {
          "output_type": "execute_result",
          "data": {
            "text/plain": [
              "<function matplotlib.pyplot.show>"
            ]
          },
          "metadata": {
            "tags": []
          },
          "execution_count": 22
        },
        {
          "output_type": "display_data",
          "data": {
            "image/png": "[encoded data removed]",
            "text/plain": [
              "<Figure size 432x288 with 1 Axes>"
            ]
          },
          "metadata": {
            "tags": [],
            "needs_background": "light"
          }
        }
      ]
    }
  ]
}